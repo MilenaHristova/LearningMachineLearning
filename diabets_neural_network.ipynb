{
 "cells": [
  {
   "cell_type": "markdown",
   "metadata": {},
   "source": [
    "Imports"
   ]
  },
  {
   "cell_type": "code",
   "execution_count": 34,
   "metadata": {},
   "outputs": [],
   "source": [
    "import numpy as np\n",
    "from keras.models import Sequential\n",
    "from keras.layers import Dense, Dropout, Activation, Flatten\n",
    "from sklearn.model_selection import train_test_split\n",
    "import matplotlib.pyplot as plt"
   ]
  },
  {
   "cell_type": "markdown",
   "metadata": {},
   "source": [
    "load data"
   ]
  },
  {
   "cell_type": "code",
   "execution_count": 3,
   "metadata": {},
   "outputs": [],
   "source": [
    "data = np.loadtxt('Downloads/diabets.csv',dtype=float, delimiter=',', skiprows=1)"
   ]
  },
  {
   "cell_type": "markdown",
   "metadata": {},
   "source": [
    "build model"
   ]
  },
  {
   "cell_type": "code",
   "execution_count": 24,
   "metadata": {},
   "outputs": [],
   "source": [
    "model = Sequential()\n",
    "model.add(Dense(20,activation='relu', input_dim = 8))\n",
    "model.add(Dense(10,activation='relu'))\n",
    "model.add(Dense(1, activation='sigmoid'))"
   ]
  },
  {
   "cell_type": "markdown",
   "metadata": {},
   "source": [
    "compile model"
   ]
  },
  {
   "cell_type": "code",
   "execution_count": 25,
   "metadata": {},
   "outputs": [],
   "source": [
    "model.compile(optimizer = \"adam\", loss = \"binary_crossentropy\", metrics = [\"accuracy\"])"
   ]
  },
  {
   "cell_type": "markdown",
   "metadata": {},
   "source": [
    "split data into values and labels"
   ]
  },
  {
   "cell_type": "code",
   "execution_count": 26,
   "metadata": {},
   "outputs": [],
   "source": [
    "x = data[:, :-1]\n",
    "y = data[:, -1]"
   ]
  },
  {
   "cell_type": "markdown",
   "metadata": {},
   "source": [
    "split data into training and test set"
   ]
  },
  {
   "cell_type": "code",
   "execution_count": 27,
   "metadata": {},
   "outputs": [],
   "source": [
    "x_train, x_test, y_train, y_test = train_test_split(x, y, test_size=0.25, random_state=7)"
   ]
  },
  {
   "cell_type": "code",
   "execution_count": null,
   "metadata": {},
   "outputs": [],
   "source": []
  },
  {
   "cell_type": "code",
   "execution_count": 29,
   "metadata": {},
   "outputs": [
    {
     "name": "stdout",
     "output_type": "stream",
     "text": [
      "Train on 432 samples, validate on 144 samples\n",
      "Epoch 1/200\n",
      "432/432 [==============================] - 0s 863us/step - loss: 4.6266 - acc: 0.4468 - val_loss: 3.3089 - val_acc: 0.5347\n",
      "Epoch 2/200\n",
      "432/432 [==============================] - 0s 59us/step - loss: 3.0543 - acc: 0.5046 - val_loss: 2.0970 - val_acc: 0.4722\n",
      "Epoch 3/200\n",
      "432/432 [==============================] - 0s 78us/step - loss: 1.9696 - acc: 0.4352 - val_loss: 1.7846 - val_acc: 0.5139\n",
      "Epoch 4/200\n",
      "432/432 [==============================] - 0s 134us/step - loss: 1.5634 - acc: 0.4537 - val_loss: 1.3546 - val_acc: 0.4931\n",
      "Epoch 5/200\n",
      "432/432 [==============================] - 0s 92us/step - loss: 1.1954 - acc: 0.5069 - val_loss: 1.2257 - val_acc: 0.5347\n",
      "Epoch 6/200\n",
      "432/432 [==============================] - 0s 106us/step - loss: 0.9400 - acc: 0.5764 - val_loss: 1.0420 - val_acc: 0.5417\n",
      "Epoch 7/200\n",
      "432/432 [==============================] - 0s 80us/step - loss: 0.7856 - acc: 0.5995 - val_loss: 0.8988 - val_acc: 0.5764\n",
      "Epoch 8/200\n",
      "432/432 [==============================] - 0s 117us/step - loss: 0.6984 - acc: 0.6412 - val_loss: 0.8295 - val_acc: 0.5972\n",
      "Epoch 9/200\n",
      "432/432 [==============================] - 0s 121us/step - loss: 0.6714 - acc: 0.6551 - val_loss: 0.8132 - val_acc: 0.5903\n",
      "Epoch 10/200\n",
      "432/432 [==============================] - 0s 68us/step - loss: 0.6741 - acc: 0.6597 - val_loss: 0.7584 - val_acc: 0.6458\n",
      "Epoch 11/200\n",
      "432/432 [==============================] - 0s 90us/step - loss: 0.6689 - acc: 0.6366 - val_loss: 0.7507 - val_acc: 0.6389\n",
      "Epoch 12/200\n",
      "432/432 [==============================] - 0s 83us/step - loss: 0.6562 - acc: 0.6597 - val_loss: 0.7467 - val_acc: 0.6597\n",
      "Epoch 13/200\n",
      "432/432 [==============================] - 0s 70us/step - loss: 0.6458 - acc: 0.6551 - val_loss: 0.7068 - val_acc: 0.6667\n",
      "Epoch 14/200\n",
      "432/432 [==============================] - 0s 67us/step - loss: 0.6232 - acc: 0.6852 - val_loss: 0.8378 - val_acc: 0.5417\n",
      "Epoch 15/200\n",
      "432/432 [==============================] - 0s 61us/step - loss: 0.6526 - acc: 0.6713 - val_loss: 0.7185 - val_acc: 0.6458\n",
      "Epoch 16/200\n",
      "432/432 [==============================] - 0s 57us/step - loss: 0.6308 - acc: 0.6690 - val_loss: 0.7171 - val_acc: 0.6528\n",
      "Epoch 17/200\n",
      "432/432 [==============================] - 0s 68us/step - loss: 0.6058 - acc: 0.6829 - val_loss: 0.6831 - val_acc: 0.6667\n",
      "Epoch 18/200\n",
      "432/432 [==============================] - 0s 94us/step - loss: 0.5976 - acc: 0.6921 - val_loss: 0.6521 - val_acc: 0.6944\n",
      "Epoch 19/200\n",
      "432/432 [==============================] - 0s 80us/step - loss: 0.6128 - acc: 0.6829 - val_loss: 0.6927 - val_acc: 0.6458\n",
      "Epoch 20/200\n",
      "432/432 [==============================] - 0s 86us/step - loss: 0.5957 - acc: 0.6898 - val_loss: 0.6681 - val_acc: 0.6944\n",
      "Epoch 21/200\n",
      "432/432 [==============================] - 0s 99us/step - loss: 0.6121 - acc: 0.6759 - val_loss: 0.7110 - val_acc: 0.7292\n",
      "Epoch 22/200\n",
      "432/432 [==============================] - 0s 94us/step - loss: 0.6015 - acc: 0.6968 - val_loss: 0.6562 - val_acc: 0.7083\n",
      "Epoch 23/200\n",
      "432/432 [==============================] - 0s 80us/step - loss: 0.5869 - acc: 0.6875 - val_loss: 0.6564 - val_acc: 0.7014\n",
      "Epoch 24/200\n",
      "432/432 [==============================] - 0s 85us/step - loss: 0.5898 - acc: 0.6944 - val_loss: 0.6340 - val_acc: 0.7083\n",
      "Epoch 25/200\n",
      "432/432 [==============================] - 0s 82us/step - loss: 0.5989 - acc: 0.6667 - val_loss: 0.6384 - val_acc: 0.6667\n",
      "Epoch 26/200\n",
      "432/432 [==============================] - 0s 90us/step - loss: 0.5848 - acc: 0.6898 - val_loss: 0.7517 - val_acc: 0.5764\n",
      "Epoch 27/200\n",
      "432/432 [==============================] - 0s 81us/step - loss: 0.5761 - acc: 0.7130 - val_loss: 0.6855 - val_acc: 0.6944\n",
      "Epoch 28/200\n",
      "432/432 [==============================] - 0s 179us/step - loss: 0.5738 - acc: 0.7083 - val_loss: 0.6670 - val_acc: 0.6181\n",
      "Epoch 29/200\n",
      "432/432 [==============================] - 0s 107us/step - loss: 0.5659 - acc: 0.7106 - val_loss: 0.6234 - val_acc: 0.6806\n",
      "Epoch 30/200\n",
      "432/432 [==============================] - 0s 100us/step - loss: 0.5721 - acc: 0.6991 - val_loss: 0.6283 - val_acc: 0.7222\n",
      "Epoch 31/200\n",
      "432/432 [==============================] - 0s 99us/step - loss: 0.5581 - acc: 0.7037 - val_loss: 0.6944 - val_acc: 0.6806\n",
      "Epoch 32/200\n",
      "432/432 [==============================] - 0s 98us/step - loss: 0.5639 - acc: 0.7014 - val_loss: 0.6108 - val_acc: 0.7222\n",
      "Epoch 33/200\n",
      "432/432 [==============================] - 0s 101us/step - loss: 0.5762 - acc: 0.6921 - val_loss: 0.6398 - val_acc: 0.6667\n",
      "Epoch 34/200\n",
      "432/432 [==============================] - 0s 80us/step - loss: 0.6424 - acc: 0.6806 - val_loss: 0.6542 - val_acc: 0.6667\n",
      "Epoch 35/200\n",
      "432/432 [==============================] - 0s 82us/step - loss: 0.5898 - acc: 0.6782 - val_loss: 0.6566 - val_acc: 0.6736\n",
      "Epoch 36/200\n",
      "432/432 [==============================] - 0s 57us/step - loss: 0.5959 - acc: 0.6991 - val_loss: 0.6044 - val_acc: 0.7014\n",
      "Epoch 37/200\n",
      "432/432 [==============================] - 0s 70us/step - loss: 0.5755 - acc: 0.6968 - val_loss: 0.5794 - val_acc: 0.7222\n",
      "Epoch 38/200\n",
      "432/432 [==============================] - 0s 99us/step - loss: 0.5479 - acc: 0.7338 - val_loss: 0.6076 - val_acc: 0.7014\n",
      "Epoch 39/200\n",
      "432/432 [==============================] - 0s 80us/step - loss: 0.5639 - acc: 0.7060 - val_loss: 0.6116 - val_acc: 0.7014\n",
      "Epoch 40/200\n",
      "432/432 [==============================] - 0s 123us/step - loss: 0.5843 - acc: 0.7037 - val_loss: 0.6254 - val_acc: 0.7292\n",
      "Epoch 41/200\n",
      "432/432 [==============================] - 0s 110us/step - loss: 0.5652 - acc: 0.6991 - val_loss: 0.5889 - val_acc: 0.7153\n",
      "Epoch 42/200\n",
      "432/432 [==============================] - 0s 76us/step - loss: 0.5449 - acc: 0.7245 - val_loss: 0.5823 - val_acc: 0.7014\n",
      "Epoch 43/200\n",
      "432/432 [==============================] - 0s 60us/step - loss: 0.5432 - acc: 0.7245 - val_loss: 0.6240 - val_acc: 0.6736\n",
      "Epoch 44/200\n",
      "432/432 [==============================] - 0s 71us/step - loss: 0.5520 - acc: 0.7222 - val_loss: 0.6284 - val_acc: 0.6736\n",
      "Epoch 45/200\n",
      "432/432 [==============================] - 0s 88us/step - loss: 0.5842 - acc: 0.7338 - val_loss: 0.6201 - val_acc: 0.6944\n",
      "Epoch 46/200\n",
      "432/432 [==============================] - 0s 127us/step - loss: 0.5559 - acc: 0.7106 - val_loss: 0.5689 - val_acc: 0.7083\n",
      "Epoch 47/200\n",
      "432/432 [==============================] - 0s 77us/step - loss: 0.5578 - acc: 0.7269 - val_loss: 0.5876 - val_acc: 0.7153\n",
      "Epoch 48/200\n",
      "432/432 [==============================] - 0s 75us/step - loss: 0.5499 - acc: 0.7153 - val_loss: 0.6187 - val_acc: 0.6736\n",
      "Epoch 49/200\n",
      "432/432 [==============================] - 0s 73us/step - loss: 0.5341 - acc: 0.7269 - val_loss: 0.5729 - val_acc: 0.7083\n",
      "Epoch 50/200\n",
      "432/432 [==============================] - 0s 71us/step - loss: 0.5417 - acc: 0.7222 - val_loss: 0.5779 - val_acc: 0.7014\n",
      "Epoch 51/200\n",
      "432/432 [==============================] - 0s 121us/step - loss: 0.5575 - acc: 0.7060 - val_loss: 0.5837 - val_acc: 0.7083\n",
      "Epoch 52/200\n",
      "432/432 [==============================] - 0s 177us/step - loss: 0.5333 - acc: 0.7245 - val_loss: 0.5658 - val_acc: 0.7222\n",
      "Epoch 53/200\n",
      "432/432 [==============================] - 0s 80us/step - loss: 0.5320 - acc: 0.7361 - val_loss: 0.5641 - val_acc: 0.6944\n",
      "Epoch 54/200\n",
      "432/432 [==============================] - 0s 109us/step - loss: 0.5215 - acc: 0.7245 - val_loss: 0.5680 - val_acc: 0.7361\n",
      "Epoch 55/200\n",
      "432/432 [==============================] - 0s 68us/step - loss: 0.5308 - acc: 0.7153 - val_loss: 0.5597 - val_acc: 0.7361\n",
      "Epoch 56/200\n",
      "432/432 [==============================] - 0s 109us/step - loss: 0.5327 - acc: 0.7292 - val_loss: 0.6205 - val_acc: 0.7083\n",
      "Epoch 57/200\n",
      "432/432 [==============================] - 0s 102us/step - loss: 0.5523 - acc: 0.7083 - val_loss: 0.6032 - val_acc: 0.7431\n",
      "Epoch 58/200\n",
      "432/432 [==============================] - ETA: 0s - loss: 0.4981 - acc: 0.687 - 0s 71us/step - loss: 0.5500 - acc: 0.7245 - val_loss: 0.5530 - val_acc: 0.6944\n",
      "Epoch 59/200\n",
      "432/432 [==============================] - 0s 77us/step - loss: 0.5494 - acc: 0.6968 - val_loss: 0.5764 - val_acc: 0.6806\n",
      "Epoch 60/200\n",
      "432/432 [==============================] - 0s 85us/step - loss: 0.5492 - acc: 0.7245 - val_loss: 0.5775 - val_acc: 0.7361\n",
      "Epoch 61/200\n"
     ]
    },
    {
     "name": "stdout",
     "output_type": "stream",
     "text": [
      "432/432 [==============================] - 0s 110us/step - loss: 0.5243 - acc: 0.7500 - val_loss: 0.5586 - val_acc: 0.7153\n",
      "Epoch 62/200\n",
      "432/432 [==============================] - 0s 79us/step - loss: 0.5161 - acc: 0.7477 - val_loss: 0.5552 - val_acc: 0.7292\n",
      "Epoch 63/200\n",
      "432/432 [==============================] - 0s 99us/step - loss: 0.5207 - acc: 0.7384 - val_loss: 0.5860 - val_acc: 0.7361\n",
      "Epoch 64/200\n",
      "432/432 [==============================] - 0s 83us/step - loss: 0.5433 - acc: 0.7315 - val_loss: 0.5727 - val_acc: 0.7222\n",
      "Epoch 65/200\n",
      "432/432 [==============================] - 0s 108us/step - loss: 0.5283 - acc: 0.7269 - val_loss: 0.5870 - val_acc: 0.6875\n",
      "Epoch 66/200\n",
      "432/432 [==============================] - 0s 72us/step - loss: 0.5292 - acc: 0.7454 - val_loss: 0.5887 - val_acc: 0.7222\n",
      "Epoch 67/200\n",
      "432/432 [==============================] - 0s 94us/step - loss: 0.5173 - acc: 0.7477 - val_loss: 0.5942 - val_acc: 0.6875\n",
      "Epoch 68/200\n",
      "432/432 [==============================] - 0s 63us/step - loss: 0.5204 - acc: 0.7431 - val_loss: 0.5719 - val_acc: 0.7500\n",
      "Epoch 69/200\n",
      "432/432 [==============================] - 0s 61us/step - loss: 0.5141 - acc: 0.7477 - val_loss: 0.5798 - val_acc: 0.6875\n",
      "Epoch 70/200\n",
      "432/432 [==============================] - 0s 69us/step - loss: 0.5328 - acc: 0.7014 - val_loss: 0.5740 - val_acc: 0.7083\n",
      "Epoch 71/200\n",
      "432/432 [==============================] - 0s 72us/step - loss: 0.5324 - acc: 0.7315 - val_loss: 0.5592 - val_acc: 0.7361\n",
      "Epoch 72/200\n",
      "432/432 [==============================] - 0s 72us/step - loss: 0.5187 - acc: 0.7338 - val_loss: 0.5640 - val_acc: 0.7153\n",
      "Epoch 73/200\n",
      "432/432 [==============================] - 0s 71us/step - loss: 0.5135 - acc: 0.7477 - val_loss: 0.5707 - val_acc: 0.7153\n",
      "Epoch 74/200\n",
      "432/432 [==============================] - 0s 72us/step - loss: 0.5188 - acc: 0.7523 - val_loss: 0.5737 - val_acc: 0.7153\n",
      "Epoch 75/200\n",
      "432/432 [==============================] - 0s 96us/step - loss: 0.5165 - acc: 0.7500 - val_loss: 0.6072 - val_acc: 0.6806\n",
      "Epoch 76/200\n",
      "432/432 [==============================] - 0s 154us/step - loss: 0.5176 - acc: 0.7569 - val_loss: 0.6883 - val_acc: 0.6528\n",
      "Epoch 77/200\n",
      "432/432 [==============================] - 0s 163us/step - loss: 0.5425 - acc: 0.7407 - val_loss: 0.5749 - val_acc: 0.7500\n",
      "Epoch 78/200\n",
      "432/432 [==============================] - 0s 133us/step - loss: 0.5223 - acc: 0.7454 - val_loss: 0.5942 - val_acc: 0.6944\n",
      "Epoch 79/200\n",
      "432/432 [==============================] - 0s 139us/step - loss: 0.5281 - acc: 0.7315 - val_loss: 0.5541 - val_acc: 0.7083\n",
      "Epoch 80/200\n",
      "432/432 [==============================] - 0s 111us/step - loss: 0.5327 - acc: 0.7454 - val_loss: 0.5594 - val_acc: 0.7292\n",
      "Epoch 81/200\n",
      "432/432 [==============================] - 0s 90us/step - loss: 0.5092 - acc: 0.7569 - val_loss: 0.5566 - val_acc: 0.6944\n",
      "Epoch 82/200\n",
      "432/432 [==============================] - 0s 80us/step - loss: 0.5060 - acc: 0.7431 - val_loss: 0.5565 - val_acc: 0.7222\n",
      "Epoch 83/200\n",
      "432/432 [==============================] - 0s 75us/step - loss: 0.5307 - acc: 0.7245 - val_loss: 0.5485 - val_acc: 0.7222\n",
      "Epoch 84/200\n",
      "432/432 [==============================] - 0s 70us/step - loss: 0.5181 - acc: 0.7731 - val_loss: 0.5864 - val_acc: 0.7014\n",
      "Epoch 85/200\n",
      "432/432 [==============================] - 0s 86us/step - loss: 0.5066 - acc: 0.7477 - val_loss: 0.5825 - val_acc: 0.7222\n",
      "Epoch 86/200\n",
      "432/432 [==============================] - 0s 118us/step - loss: 0.5046 - acc: 0.7500 - val_loss: 0.5969 - val_acc: 0.7083\n",
      "Epoch 87/200\n",
      "432/432 [==============================] - 0s 88us/step - loss: 0.5121 - acc: 0.7315 - val_loss: 0.6211 - val_acc: 0.7083\n",
      "Epoch 88/200\n",
      "432/432 [==============================] - 0s 75us/step - loss: 0.5533 - acc: 0.7338 - val_loss: 0.6622 - val_acc: 0.6319\n",
      "Epoch 89/200\n",
      "432/432 [==============================] - 0s 64us/step - loss: 0.5644 - acc: 0.7199 - val_loss: 0.5828 - val_acc: 0.7014\n",
      "Epoch 90/200\n",
      "432/432 [==============================] - 0s 57us/step - loss: 0.5039 - acc: 0.7569 - val_loss: 0.5896 - val_acc: 0.7083\n",
      "Epoch 91/200\n",
      "432/432 [==============================] - 0s 63us/step - loss: 0.5142 - acc: 0.7546 - val_loss: 0.6032 - val_acc: 0.6944\n",
      "Epoch 92/200\n",
      "432/432 [==============================] - 0s 53us/step - loss: 0.5563 - acc: 0.7130 - val_loss: 0.5700 - val_acc: 0.7222\n",
      "Epoch 93/200\n",
      "432/432 [==============================] - 0s 61us/step - loss: 0.5052 - acc: 0.7616 - val_loss: 0.5594 - val_acc: 0.7083\n",
      "Epoch 94/200\n",
      "432/432 [==============================] - 0s 65us/step - loss: 0.5298 - acc: 0.7477 - val_loss: 0.5811 - val_acc: 0.7292\n",
      "Epoch 95/200\n",
      "432/432 [==============================] - 0s 75us/step - loss: 0.5532 - acc: 0.7130 - val_loss: 0.5725 - val_acc: 0.7361\n",
      "Epoch 96/200\n",
      "432/432 [==============================] - 0s 75us/step - loss: 0.5601 - acc: 0.6991 - val_loss: 0.6106 - val_acc: 0.7083\n",
      "Epoch 97/200\n",
      "432/432 [==============================] - 0s 64us/step - loss: 0.5321 - acc: 0.7500 - val_loss: 0.5675 - val_acc: 0.7292\n",
      "Epoch 98/200\n",
      "432/432 [==============================] - 0s 95us/step - loss: 0.5418 - acc: 0.7245 - val_loss: 0.5703 - val_acc: 0.6944\n",
      "Epoch 99/200\n",
      "432/432 [==============================] - 0s 78us/step - loss: 0.5477 - acc: 0.7245 - val_loss: 0.5810 - val_acc: 0.7431\n",
      "Epoch 100/200\n",
      "432/432 [==============================] - 0s 77us/step - loss: 0.5057 - acc: 0.7500 - val_loss: 0.5539 - val_acc: 0.7292\n",
      "Epoch 101/200\n",
      "432/432 [==============================] - 0s 69us/step - loss: 0.4941 - acc: 0.7569 - val_loss: 0.5792 - val_acc: 0.7014\n",
      "Epoch 102/200\n",
      "432/432 [==============================] - 0s 87us/step - loss: 0.5027 - acc: 0.7546 - val_loss: 0.5551 - val_acc: 0.7361\n",
      "Epoch 103/200\n",
      "432/432 [==============================] - 0s 98us/step - loss: 0.5135 - acc: 0.7523 - val_loss: 0.5592 - val_acc: 0.7222\n",
      "Epoch 104/200\n",
      "432/432 [==============================] - 0s 71us/step - loss: 0.5071 - acc: 0.7593 - val_loss: 0.5576 - val_acc: 0.7222\n",
      "Epoch 105/200\n",
      "432/432 [==============================] - 0s 69us/step - loss: 0.5001 - acc: 0.7384 - val_loss: 0.5448 - val_acc: 0.7292\n",
      "Epoch 106/200\n",
      "432/432 [==============================] - 0s 80us/step - loss: 0.5056 - acc: 0.7361 - val_loss: 0.5611 - val_acc: 0.7431\n",
      "Epoch 107/200\n",
      "432/432 [==============================] - 0s 84us/step - loss: 0.5371 - acc: 0.7269 - val_loss: 0.5523 - val_acc: 0.7014\n",
      "Epoch 108/200\n",
      "432/432 [==============================] - 0s 80us/step - loss: 0.5649 - acc: 0.7292 - val_loss: 0.6044 - val_acc: 0.7153\n",
      "Epoch 109/200\n",
      "432/432 [==============================] - 0s 78us/step - loss: 0.5484 - acc: 0.7384 - val_loss: 0.5751 - val_acc: 0.6944\n",
      "Epoch 110/200\n",
      "432/432 [==============================] - 0s 80us/step - loss: 0.4932 - acc: 0.7500 - val_loss: 0.5900 - val_acc: 0.7431\n",
      "Epoch 111/200\n",
      "432/432 [==============================] - 0s 61us/step - loss: 0.4971 - acc: 0.7639 - val_loss: 0.5956 - val_acc: 0.7083\n",
      "Epoch 112/200\n",
      "432/432 [==============================] - 0s 91us/step - loss: 0.5359 - acc: 0.7523 - val_loss: 0.5698 - val_acc: 0.7292\n",
      "Epoch 113/200\n",
      "432/432 [==============================] - 0s 86us/step - loss: 0.5037 - acc: 0.7315 - val_loss: 0.5538 - val_acc: 0.7500\n",
      "Epoch 114/200\n",
      "432/432 [==============================] - 0s 82us/step - loss: 0.5050 - acc: 0.7662 - val_loss: 0.5514 - val_acc: 0.7083\n",
      "Epoch 115/200\n",
      "432/432 [==============================] - 0s 65us/step - loss: 0.5029 - acc: 0.7731 - val_loss: 0.5517 - val_acc: 0.7153\n",
      "Epoch 116/200\n",
      "432/432 [==============================] - 0s 75us/step - loss: 0.4977 - acc: 0.7593 - val_loss: 0.5593 - val_acc: 0.7500\n",
      "Epoch 117/200\n",
      "432/432 [==============================] - 0s 87us/step - loss: 0.4970 - acc: 0.7361 - val_loss: 0.5620 - val_acc: 0.7292\n",
      "Epoch 118/200\n",
      "432/432 [==============================] - 0s 78us/step - loss: 0.5172 - acc: 0.7593 - val_loss: 0.5651 - val_acc: 0.7222\n",
      "Epoch 119/200\n",
      "432/432 [==============================] - 0s 86us/step - loss: 0.5209 - acc: 0.7500 - val_loss: 0.5406 - val_acc: 0.7292\n",
      "Epoch 120/200\n",
      "432/432 [==============================] - 0s 57us/step - loss: 0.5226 - acc: 0.7546 - val_loss: 0.5467 - val_acc: 0.7083\n",
      "Epoch 121/200\n"
     ]
    },
    {
     "name": "stdout",
     "output_type": "stream",
     "text": [
      "432/432 [==============================] - 0s 54us/step - loss: 0.5160 - acc: 0.7477 - val_loss: 0.5759 - val_acc: 0.7083\n",
      "Epoch 122/200\n",
      "432/432 [==============================] - 0s 52us/step - loss: 0.4930 - acc: 0.7546 - val_loss: 0.5613 - val_acc: 0.7361\n",
      "Epoch 123/200\n",
      "432/432 [==============================] - 0s 53us/step - loss: 0.5033 - acc: 0.7639 - val_loss: 0.5461 - val_acc: 0.7083\n",
      "Epoch 124/200\n",
      "432/432 [==============================] - 0s 73us/step - loss: 0.4978 - acc: 0.7569 - val_loss: 0.5443 - val_acc: 0.7153\n",
      "Epoch 125/200\n",
      "432/432 [==============================] - 0s 79us/step - loss: 0.4955 - acc: 0.7593 - val_loss: 0.5496 - val_acc: 0.7431\n",
      "Epoch 126/200\n",
      "432/432 [==============================] - 0s 86us/step - loss: 0.5339 - acc: 0.7269 - val_loss: 0.5810 - val_acc: 0.7431\n",
      "Epoch 127/200\n",
      "432/432 [==============================] - 0s 138us/step - loss: 0.5131 - acc: 0.7361 - val_loss: 0.5504 - val_acc: 0.7222\n",
      "Epoch 128/200\n",
      "432/432 [==============================] - 0s 68us/step - loss: 0.4863 - acc: 0.7662 - val_loss: 0.5659 - val_acc: 0.7361\n",
      "Epoch 129/200\n",
      "432/432 [==============================] - 0s 93us/step - loss: 0.4953 - acc: 0.7500 - val_loss: 0.5595 - val_acc: 0.7083\n",
      "Epoch 130/200\n",
      "432/432 [==============================] - 0s 87us/step - loss: 0.4809 - acc: 0.7546 - val_loss: 0.5511 - val_acc: 0.7431\n",
      "Epoch 131/200\n",
      "432/432 [==============================] - 0s 82us/step - loss: 0.4976 - acc: 0.7593 - val_loss: 0.5565 - val_acc: 0.7292\n",
      "Epoch 132/200\n",
      "432/432 [==============================] - 0s 86us/step - loss: 0.4946 - acc: 0.7616 - val_loss: 0.5440 - val_acc: 0.7222\n",
      "Epoch 133/200\n",
      "432/432 [==============================] - 0s 54us/step - loss: 0.5181 - acc: 0.7546 - val_loss: 0.5853 - val_acc: 0.7431\n",
      "Epoch 134/200\n",
      "432/432 [==============================] - 0s 69us/step - loss: 0.4930 - acc: 0.7546 - val_loss: 0.5855 - val_acc: 0.7014\n",
      "Epoch 135/200\n",
      "432/432 [==============================] - 0s 68us/step - loss: 0.5108 - acc: 0.7523 - val_loss: 0.6009 - val_acc: 0.7014\n",
      "Epoch 136/200\n",
      "432/432 [==============================] - 0s 71us/step - loss: 0.5180 - acc: 0.7546 - val_loss: 0.6248 - val_acc: 0.7153\n",
      "Epoch 137/200\n",
      "432/432 [==============================] - 0s 71us/step - loss: 0.5093 - acc: 0.7546 - val_loss: 0.5583 - val_acc: 0.7222\n",
      "Epoch 138/200\n",
      "432/432 [==============================] - 0s 72us/step - loss: 0.4898 - acc: 0.7546 - val_loss: 0.5386 - val_acc: 0.7431\n",
      "Epoch 139/200\n",
      "432/432 [==============================] - 0s 73us/step - loss: 0.4871 - acc: 0.7546 - val_loss: 0.5737 - val_acc: 0.7153\n",
      "Epoch 140/200\n",
      "432/432 [==============================] - 0s 73us/step - loss: 0.4924 - acc: 0.7685 - val_loss: 0.5713 - val_acc: 0.7153\n",
      "Epoch 141/200\n",
      "432/432 [==============================] - 0s 65us/step - loss: 0.5065 - acc: 0.7708 - val_loss: 0.6000 - val_acc: 0.7153\n",
      "Epoch 142/200\n",
      "432/432 [==============================] - 0s 70us/step - loss: 0.5023 - acc: 0.7546 - val_loss: 0.5609 - val_acc: 0.7222\n",
      "Epoch 143/200\n",
      "432/432 [==============================] - 0s 65us/step - loss: 0.4833 - acc: 0.7500 - val_loss: 0.5864 - val_acc: 0.6944\n",
      "Epoch 144/200\n",
      "432/432 [==============================] - 0s 62us/step - loss: 0.5042 - acc: 0.7685 - val_loss: 0.6039 - val_acc: 0.7292\n",
      "Epoch 145/200\n",
      "432/432 [==============================] - 0s 62us/step - loss: 0.4970 - acc: 0.7616 - val_loss: 0.5718 - val_acc: 0.7361\n",
      "Epoch 146/200\n",
      "432/432 [==============================] - 0s 73us/step - loss: 0.4922 - acc: 0.7593 - val_loss: 0.5514 - val_acc: 0.7153\n",
      "Epoch 147/200\n",
      "432/432 [==============================] - 0s 102us/step - loss: 0.4749 - acc: 0.7940 - val_loss: 0.5789 - val_acc: 0.7222\n",
      "Epoch 148/200\n",
      "432/432 [==============================] - 0s 65us/step - loss: 0.5057 - acc: 0.7662 - val_loss: 0.5971 - val_acc: 0.7292\n",
      "Epoch 149/200\n",
      "432/432 [==============================] - 0s 59us/step - loss: 0.5977 - acc: 0.7199 - val_loss: 0.6903 - val_acc: 0.7153\n",
      "Epoch 150/200\n",
      "432/432 [==============================] - 0s 60us/step - loss: 0.5610 - acc: 0.7407 - val_loss: 0.5843 - val_acc: 0.7153\n",
      "Epoch 151/200\n",
      "432/432 [==============================] - 0s 65us/step - loss: 0.4865 - acc: 0.7662 - val_loss: 0.5411 - val_acc: 0.7292\n",
      "Epoch 152/200\n",
      "432/432 [==============================] - 0s 60us/step - loss: 0.4763 - acc: 0.7616 - val_loss: 0.5666 - val_acc: 0.6944\n",
      "Epoch 153/200\n",
      "432/432 [==============================] - 0s 69us/step - loss: 0.4749 - acc: 0.7662 - val_loss: 0.5482 - val_acc: 0.7500\n",
      "Epoch 154/200\n",
      "432/432 [==============================] - 0s 62us/step - loss: 0.4730 - acc: 0.7662 - val_loss: 0.5351 - val_acc: 0.7153\n",
      "Epoch 155/200\n",
      "432/432 [==============================] - 0s 85us/step - loss: 0.4819 - acc: 0.7685 - val_loss: 0.5426 - val_acc: 0.7292\n",
      "Epoch 156/200\n",
      "432/432 [==============================] - 0s 141us/step - loss: 0.5588 - acc: 0.7338 - val_loss: 0.6053 - val_acc: 0.6806\n",
      "Epoch 157/200\n",
      "432/432 [==============================] - 0s 98us/step - loss: 0.5237 - acc: 0.7407 - val_loss: 0.5669 - val_acc: 0.7083\n",
      "Epoch 158/200\n",
      "432/432 [==============================] - 0s 68us/step - loss: 0.4992 - acc: 0.7569 - val_loss: 0.5570 - val_acc: 0.7083\n",
      "Epoch 159/200\n",
      "432/432 [==============================] - 0s 92us/step - loss: 0.4746 - acc: 0.7639 - val_loss: 0.5397 - val_acc: 0.7361\n",
      "Epoch 160/200\n",
      "432/432 [==============================] - 0s 90us/step - loss: 0.4779 - acc: 0.7616 - val_loss: 0.5648 - val_acc: 0.7222\n",
      "Epoch 161/200\n",
      "432/432 [==============================] - 0s 56us/step - loss: 0.4703 - acc: 0.7847 - val_loss: 0.5492 - val_acc: 0.7153\n",
      "Epoch 162/200\n",
      "432/432 [==============================] - 0s 56us/step - loss: 0.4880 - acc: 0.7616 - val_loss: 0.5455 - val_acc: 0.7222\n",
      "Epoch 163/200\n",
      "432/432 [==============================] - 0s 55us/step - loss: 0.4790 - acc: 0.7708 - val_loss: 0.5650 - val_acc: 0.6944\n",
      "Epoch 164/200\n",
      "432/432 [==============================] - 0s 80us/step - loss: 0.4742 - acc: 0.7685 - val_loss: 0.5399 - val_acc: 0.7361\n",
      "Epoch 165/200\n",
      "432/432 [==============================] - 0s 71us/step - loss: 0.5034 - acc: 0.7569 - val_loss: 0.5454 - val_acc: 0.7431\n",
      "Epoch 166/200\n",
      "432/432 [==============================] - 0s 82us/step - loss: 0.4868 - acc: 0.7569 - val_loss: 0.5407 - val_acc: 0.7153\n",
      "Epoch 167/200\n",
      "432/432 [==============================] - 0s 63us/step - loss: 0.4759 - acc: 0.7778 - val_loss: 0.5368 - val_acc: 0.7083\n",
      "Epoch 168/200\n",
      "432/432 [==============================] - 0s 67us/step - loss: 0.4960 - acc: 0.7685 - val_loss: 0.5955 - val_acc: 0.7222\n",
      "Epoch 169/200\n",
      "432/432 [==============================] - 0s 54us/step - loss: 0.4678 - acc: 0.7778 - val_loss: 0.6436 - val_acc: 0.7014\n",
      "Epoch 170/200\n",
      "432/432 [==============================] - 0s 55us/step - loss: 0.4677 - acc: 0.7755 - val_loss: 0.5919 - val_acc: 0.7153\n",
      "Epoch 171/200\n",
      "432/432 [==============================] - 0s 79us/step - loss: 0.4881 - acc: 0.7639 - val_loss: 0.5528 - val_acc: 0.6875\n",
      "Epoch 172/200\n",
      "432/432 [==============================] - 0s 55us/step - loss: 0.4748 - acc: 0.7755 - val_loss: 0.6026 - val_acc: 0.7014\n",
      "Epoch 173/200\n",
      "432/432 [==============================] - 0s 68us/step - loss: 0.4813 - acc: 0.7685 - val_loss: 0.6117 - val_acc: 0.7083\n",
      "Epoch 174/200\n",
      "432/432 [==============================] - 0s 68us/step - loss: 0.4935 - acc: 0.7685 - val_loss: 0.5730 - val_acc: 0.7292\n",
      "Epoch 175/200\n",
      "432/432 [==============================] - 0s 77us/step - loss: 0.4961 - acc: 0.7477 - val_loss: 0.5464 - val_acc: 0.7153\n",
      "Epoch 176/200\n",
      "432/432 [==============================] - 0s 71us/step - loss: 0.4706 - acc: 0.7662 - val_loss: 0.5666 - val_acc: 0.7222\n",
      "Epoch 177/200\n",
      "432/432 [==============================] - 0s 47us/step - loss: 0.4636 - acc: 0.7708 - val_loss: 0.5654 - val_acc: 0.7222\n",
      "Epoch 178/200\n",
      "432/432 [==============================] - 0s 60us/step - loss: 0.5117 - acc: 0.7338 - val_loss: 0.5424 - val_acc: 0.7014\n",
      "Epoch 179/200\n",
      "432/432 [==============================] - 0s 65us/step - loss: 0.4960 - acc: 0.7500 - val_loss: 0.6159 - val_acc: 0.6736\n",
      "Epoch 180/200\n",
      "432/432 [==============================] - 0s 57us/step - loss: 0.4890 - acc: 0.7639 - val_loss: 0.5756 - val_acc: 0.7014\n",
      "Epoch 181/200\n"
     ]
    },
    {
     "name": "stdout",
     "output_type": "stream",
     "text": [
      "432/432 [==============================] - 0s 63us/step - loss: 0.4839 - acc: 0.7569 - val_loss: 0.5900 - val_acc: 0.7083\n",
      "Epoch 182/200\n",
      "432/432 [==============================] - 0s 64us/step - loss: 0.4726 - acc: 0.7778 - val_loss: 0.5620 - val_acc: 0.7292\n",
      "Epoch 183/200\n",
      "432/432 [==============================] - 0s 56us/step - loss: 0.4772 - acc: 0.7870 - val_loss: 0.5377 - val_acc: 0.7222\n",
      "Epoch 184/200\n",
      "432/432 [==============================] - 0s 95us/step - loss: 0.5137 - acc: 0.7546 - val_loss: 0.5521 - val_acc: 0.7361\n",
      "Epoch 185/200\n",
      "432/432 [==============================] - 0s 79us/step - loss: 0.4746 - acc: 0.7870 - val_loss: 0.5494 - val_acc: 0.7361\n",
      "Epoch 186/200\n",
      "432/432 [==============================] - 0s 82us/step - loss: 0.4712 - acc: 0.7801 - val_loss: 0.5670 - val_acc: 0.7014\n",
      "Epoch 187/200\n",
      "432/432 [==============================] - 0s 108us/step - loss: 0.4883 - acc: 0.7616 - val_loss: 0.5776 - val_acc: 0.7292\n",
      "Epoch 188/200\n",
      "432/432 [==============================] - 0s 123us/step - loss: 0.4755 - acc: 0.7870 - val_loss: 0.5730 - val_acc: 0.7153\n",
      "Epoch 189/200\n",
      "432/432 [==============================] - 0s 101us/step - loss: 0.4806 - acc: 0.7801 - val_loss: 0.6154 - val_acc: 0.6944\n",
      "Epoch 190/200\n",
      "432/432 [==============================] - 0s 56us/step - loss: 0.4885 - acc: 0.7500 - val_loss: 0.6203 - val_acc: 0.6944\n",
      "Epoch 191/200\n",
      "432/432 [==============================] - 0s 61us/step - loss: 0.4820 - acc: 0.7662 - val_loss: 0.5662 - val_acc: 0.7083\n",
      "Epoch 192/200\n",
      "432/432 [==============================] - 0s 102us/step - loss: 0.4667 - acc: 0.7778 - val_loss: 0.5664 - val_acc: 0.7014\n",
      "Epoch 193/200\n",
      "432/432 [==============================] - 0s 51us/step - loss: 0.4684 - acc: 0.7731 - val_loss: 0.5652 - val_acc: 0.7292\n",
      "Epoch 194/200\n",
      "432/432 [==============================] - 0s 55us/step - loss: 0.4665 - acc: 0.7801 - val_loss: 0.6128 - val_acc: 0.7014\n",
      "Epoch 195/200\n",
      "432/432 [==============================] - 0s 80us/step - loss: 0.4922 - acc: 0.7662 - val_loss: 0.5980 - val_acc: 0.7014\n",
      "Epoch 196/200\n",
      "432/432 [==============================] - 0s 76us/step - loss: 0.4755 - acc: 0.7593 - val_loss: 0.5699 - val_acc: 0.7014\n",
      "Epoch 197/200\n",
      "432/432 [==============================] - 0s 61us/step - loss: 0.4850 - acc: 0.7662 - val_loss: 0.6006 - val_acc: 0.7014\n",
      "Epoch 198/200\n",
      "432/432 [==============================] - 0s 57us/step - loss: 0.4680 - acc: 0.7824 - val_loss: 0.5718 - val_acc: 0.7153\n",
      "Epoch 199/200\n",
      "432/432 [==============================] - 0s 72us/step - loss: 0.4619 - acc: 0.7940 - val_loss: 0.5838 - val_acc: 0.7014\n",
      "Epoch 200/200\n",
      "432/432 [==============================] - 0s 68us/step - loss: 0.4620 - acc: 0.7685 - val_loss: 0.5639 - val_acc: 0.7083\n"
     ]
    }
   ],
   "source": [
    "history = model.fit(x_train, y_train, epochs = 200, validation_split = 0.25)"
   ]
  },
  {
   "cell_type": "markdown",
   "metadata": {},
   "source": [
    "\n"
   ]
  },
  {
   "cell_type": "code",
   "execution_count": 30,
   "metadata": {},
   "outputs": [
    {
     "name": "stdout",
     "output_type": "stream",
     "text": [
      "576/576 [==============================] - 0s 27us/step\n"
     ]
    },
    {
     "data": {
      "text/plain": [
       "[0.4799666206041972, 0.765625]"
      ]
     },
     "execution_count": 30,
     "metadata": {},
     "output_type": "execute_result"
    }
   ],
   "source": [
    "model.evaluate(x_train, y_train)"
   ]
  },
  {
   "cell_type": "code",
   "execution_count": 31,
   "metadata": {},
   "outputs": [
    {
     "name": "stdout",
     "output_type": "stream",
     "text": [
      "192/192 [==============================] - 0s 57us/step\n"
     ]
    }
   ],
   "source": [
    "score = model.evaluate(x_test, y_test) \n"
   ]
  },
  {
   "cell_type": "code",
   "execution_count": 32,
   "metadata": {},
   "outputs": [
    {
     "data": {
      "text/plain": [
       "[0.6261290808518728, 0.734375]"
      ]
     },
     "execution_count": 32,
     "metadata": {},
     "output_type": "execute_result"
    }
   ],
   "source": [
    "score"
   ]
  },
  {
   "cell_type": "code",
   "execution_count": 33,
   "metadata": {},
   "outputs": [
    {
     "data": {
      "image/png": "[encoded data removed]",
      "text/plain": [
       "<Figure size 432x288 with 1 Axes>"
      ]
     },
     "metadata": {
      "needs_background": "light"
     },
     "output_type": "display_data"
    }
   ],
   "source": [
    "plt.plot(history.history['acc'])\n",
    "plt.plot(history.history['val_acc'])\n",
    "plt.title('model accuracy')\n",
    "plt.ylabel('accuracy')\n",
    "plt.xlabel('epoch')\n",
    "plt.legend(['train', 'validation'], loc='upper left')\n",
    "plt.show()"
   ]
  },
  {
   "cell_type": "code",
   "execution_count": null,
   "metadata": {},
   "outputs": [],
   "source": []
  }
 ],
 "metadata": {
  "kernelspec": {
   "display_name": "Python 3",
   "language": "python",
   "name": "python3"
  },
  "language_info": {
   "codemirror_mode": {
    "name": "ipython",
    "version": 3
   },
   "file_extension": ".py",
   "mimetype": "text/x-python",
   "name": "python",
   "nbconvert_exporter": "python",
   "pygments_lexer": "ipython3",
   "version": "3.6.7"
  }
 },
 "nbformat": 4,
 "nbformat_minor": 2
}
