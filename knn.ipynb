{
 "cells": [
  {
   "cell_type": "markdown",
   "metadata": {},
   "source": [
    "KNN Algorithm"
   ]
  },
  {
   "cell_type": "markdown",
   "metadata": {},
   "source": [
    "                                                    \n",
    "Given a dataset of people with factors for diabetes, makes a prediction for the status of the people in the testset depending on the k nearest neighbours and checks the prediction returning a percentage of correctness for the algorithm"
   ]
  },
  {
   "cell_type": "markdown",
   "metadata": {},
   "source": [
    "Imports"
   ]
  },
  {
   "cell_type": "code",
   "execution_count": 63,
   "metadata": {},
   "outputs": [],
   "source": [
    "import numpy as np\n",
    "import pandas as pd\n",
    "from matplotlib import pyplot as plt"
   ]
  },
  {
   "cell_type": "markdown",
   "metadata": {},
   "source": [
    "Load Data"
   ]
  },
  {
   "cell_type": "code",
   "execution_count": 64,
   "metadata": {},
   "outputs": [],
   "source": [
    "data = np.loadtxt('Downloads/diabets.csv',dtype=float, delimiter=',', skiprows=1)"
   ]
  },
  {
   "cell_type": "markdown",
   "metadata": {},
   "source": [
    " Process Data"
   ]
  },
  {
   "cell_type": "code",
   "execution_count": 65,
   "metadata": {},
   "outputs": [],
   "source": [
    "trainingSet = data[:600]\n",
    "testSet = data[600:]"
   ]
  },
  {
   "cell_type": "markdown",
   "metadata": {},
   "source": [
    "Returns the distances from the current element of the test set to every training element"
   ]
  },
  {
   "cell_type": "code",
   "execution_count": 66,
   "metadata": {},
   "outputs": [],
   "source": [
    "def ComputeDistancesToTrainingElements(testData, trainingSet):\n",
    "    distances = {}\n",
    "        \n",
    "    for record in trainingSet:\n",
    "        trainingData = record[:-1]\n",
    "        distToElement = np.linalg.norm(testData - trainingData)\n",
    "        distances[tuple(record)] = distToElement\n",
    "    \n",
    "    return distances"
   ]
  },
  {
   "cell_type": "markdown",
   "metadata": {},
   "source": [
    "Counts the number of diabetics in the k nearest of the current element"
   ]
  },
  {
   "cell_type": "code",
   "execution_count": 67,
   "metadata": {},
   "outputs": [],
   "source": [
    "def CountDiabeticsInKNearest(firstk):\n",
    "    numOfDiabetics = 0\n",
    "    for element in firstk:\n",
    "        numOfDiabetics += element[0][-1]\n",
    "    \n",
    "    return numOfDiabetics"
   ]
  },
  {
   "cell_type": "markdown",
   "metadata": {},
   "source": [
    "Compares the average distances to the nearest diabetics and non-diabetics (if count of diabetics is equal to count of non-diabetics in the k nearest)"
   ]
  },
  {
   "cell_type": "code",
   "execution_count": 68,
   "metadata": {},
   "outputs": [],
   "source": [
    "def GuessByAverage(firstk):\n",
    "    sumOfPos = 0\n",
    "    sumOfNeg = 0\n",
    "    for element in firstk:\n",
    "        if element[0][-1] == 1: sumOfPos += element[1]\n",
    "        else: sumOfNeg += element[1]\n",
    "        \n",
    "    return sumOfPos > sumOfNeg"
   ]
  },
  {
   "cell_type": "markdown",
   "metadata": {},
   "source": [
    "Returns a guess for the element depending on the k nearest neighbours"
   ]
  },
  {
   "cell_type": "code",
   "execution_count": 69,
   "metadata": {},
   "outputs": [],
   "source": [
    "def guess(testData, trainingSet, k):\n",
    "    \n",
    "    distances = ComputeDistancesToTrainingElements(testData, trainingSet)\n",
    "    \n",
    "    sortedDistances = sorted(distances.items(), key=lambda kv: kv[1])\n",
    "    \n",
    "    firstk = sortedDistances[:k]\n",
    "    \n",
    "    numOfDiabetics = CountDiabeticsInKNearest(firstk)\n",
    "        \n",
    "    if numOfDiabetics == k/2:\n",
    "        return GuessByAverage(firstk)\n",
    "    \n",
    "    return numOfDiabetics > (k - numOfDiabetics)"
   ]
  },
  {
   "cell_type": "markdown",
   "metadata": {},
   "source": [
    "Returns the percentage of correct predictions of the algorithm.\n",
    "The algorithm compares the sum of distances to the diabetics and non-diabetics in the k nearest neighbours when their count is equal "
   ]
  },
  {
   "cell_type": "code",
   "execution_count": 70,
   "metadata": {},
   "outputs": [],
   "source": [
    "def KNN(k):\n",
    "    correctPredictions = 0\n",
    "    \n",
    "    for row in testSet:\n",
    "        testData = row[:-1]\n",
    "        isDiabeticGuess = guess(testData, trainingSet, k)\n",
    "        if(isDiabeticGuess == row[-1]): correctPredictions += 1\n",
    "            \n",
    "    return correctPredictions/testSet.shape[0] * 100 "
   ]
  },
  {
   "cell_type": "markdown",
   "metadata": {},
   "source": [
    "Set up a list of values for k and a list of percentages of KNN with argument k"
   ]
  },
  {
   "cell_type": "code",
   "execution_count": 71,
   "metadata": {},
   "outputs": [],
   "source": [
    "args = list(range(1,40))\n",
    "vals = []\n",
    "for arg in args:\n",
    "    vals.append(KNN(arg))"
   ]
  },
  {
   "cell_type": "markdown",
   "metadata": {},
   "source": [
    "A graph comparing the correctness of the algorithm for different values of k.\n",
    "When the diabetics and non-diabetics are equal, the algorithm is comparing the sums of distances to the diabetics and non-diabetics"
   ]
  },
  {
   "cell_type": "code",
   "execution_count": 72,
   "metadata": {},
   "outputs": [
    {
     "data": {
      "text/plain": [
       "[<matplotlib.lines.Line2D at 0xa18a70>]"
      ]
     },
     "execution_count": 72,
     "metadata": {},
     "output_type": "execute_result"
    },
    {
     "data": {
      "image/png": "[encoded data removed]",
      "text/plain": [
       "<Figure size 432x288 with 1 Axes>"
      ]
     },
     "metadata": {
      "needs_background": "light"
     },
     "output_type": "display_data"
    }
   ],
   "source": [
    "plt.plot(args, vals)"
   ]
  },
  {
   "cell_type": "markdown",
   "metadata": {},
   "source": [
    "Guess with getting the value of the nearest neighbour when the diabetics and non-diabetics are equal"
   ]
  },
  {
   "cell_type": "code",
   "execution_count": 73,
   "metadata": {},
   "outputs": [],
   "source": [
    "def guess2(testData, trainingSet, k):\n",
    "    \n",
    "    distances = ComputeDistancesToTrainingElements(testData, trainingSet)\n",
    "    \n",
    "    sortedDistances = sorted(distances.items(), key=lambda kv: kv[1])\n",
    "    \n",
    "    firstk = sortedDistances[:k]\n",
    "    \n",
    "    numOfDiabetics = CountDiabeticsInKNearest(firstk)\n",
    "        \n",
    "    if numOfDiabetics == k/2:\n",
    "        return firstk[0][0][-1]\n",
    "    \n",
    "    isDiabeticGuess = numOfDiabetics > (k - numOfDiabetics)\n",
    "    \n",
    "    return isDiabeticGuess"
   ]
  },
  {
   "cell_type": "markdown",
   "metadata": {},
   "source": [
    "Returns the percentage of correct predictions of the algorithm when using the value of the nearest neighbour in case of equal count of diabetics and non-diabetics"
   ]
  },
  {
   "cell_type": "code",
   "execution_count": 74,
   "metadata": {},
   "outputs": [],
   "source": [
    "def KNN2(k):\n",
    "    correctPredictions = 0\n",
    "    for row in testSet:\n",
    "        testData = row[:-1]\n",
    "        isDiabeticGuess = guess2(testData, trainingSet, k)\n",
    "        if(isDiabeticGuess == row[-1]): correctPredictions += 1\n",
    "            \n",
    "    return correctPredictions/testSet.shape[0] * 100 "
   ]
  },
  {
   "cell_type": "code",
   "execution_count": 75,
   "metadata": {},
   "outputs": [],
   "source": [
    "vals2 = []"
   ]
  },
  {
   "cell_type": "code",
   "execution_count": 76,
   "metadata": {},
   "outputs": [],
   "source": [
    "for arg in args:\n",
    "    vals2.append(KNN2(arg))"
   ]
  },
  {
   "cell_type": "markdown",
   "metadata": {},
   "source": [
    "A graph comparing the correctness of the algorithm for different values of k.\n",
    "When the diabetics and non-diabetics are equal, the algorithm is using the value of the nearest neighbour"
   ]
  },
  {
   "cell_type": "code",
   "execution_count": 77,
   "metadata": {},
   "outputs": [
    {
     "data": {
      "text/plain": [
       "[<matplotlib.lines.Line2D at 0xd78170>]"
      ]
     },
     "execution_count": 77,
     "metadata": {},
     "output_type": "execute_result"
    },
    {
     "data": {
      "image/png": "[encoded data removed]",
      "text/plain": [
       "<Figure size 432x288 with 1 Axes>"
      ]
     },
     "metadata": {
      "needs_background": "light"
     },
     "output_type": "display_data"
    }
   ],
   "source": [
    "plt.plot(args, vals2)"
   ]
  },
  {
   "cell_type": "code",
   "execution_count": null,
   "metadata": {},
   "outputs": [],
   "source": []
  },
  {
   "cell_type": "code",
   "execution_count": null,
   "metadata": {},
   "outputs": [],
   "source": []
  }
 ],
 "metadata": {
  "kernelspec": {
   "display_name": "Python 3",
   "language": "python",
   "name": "python3"
  },
  "language_info": {
   "codemirror_mode": {
    "name": "ipython",
    "version": 3
   },
   "file_extension": ".py",
   "mimetype": "text/x-python",
   "name": "python",
   "nbconvert_exporter": "python",
   "pygments_lexer": "ipython3",
   "version": "3.6.5"
  }
 },
 "nbformat": 4,
 "nbformat_minor": 2
}
